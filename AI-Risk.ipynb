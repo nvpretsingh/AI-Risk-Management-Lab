{
 "cells": [
  {
   "cell_type": "markdown",
   "id": "0a5e0240-0e5b-47e5-a2ac-58931d02dd19",
   "metadata": {},
   "source": [
    "Introduction\n",
    "\n",
    "This Jupyter Notebook demonstrates AI Risk Management techniques following the NIST AI RMF framework. It covers:\n",
    "\n",
    "AI Model Training for Fraud Detection\n",
    "\n",
    "Bias Detection & Fairness Analysis\n",
    "\n",
    "Adversarial Attack Simulation\n",
    "\n",
    "Data Privacy & Encryption\n",
    "\n",
    "Model Drift Detection & Monitoring"
   ]
  },
  {
   "cell_type": "markdown",
   "id": "3ae59534-13c1-4b56-840a-e6844b1f197b",
   "metadata": {},
   "source": [
    "1️⃣ Load AI Dataset\n",
    "\n",
    "📌 Description:\n",
    "\n",
    "This section loads a synthetic fraud detection dataset to train an AI model. It ensures that the dataset represents real-world fraud scenarios.\n",
    "\n",
    "💡 Why is this important?\n",
    "\n",
    "AI models depend on high-quality data.\n",
    "\n",
    "Poorly prepared datasets lead to biased or unreliable AI models."
   ]
  },
  {
   "cell_type": "code",
   "execution_count": 1,
   "id": "638e65d6-ba07-4d0c-814f-ff341e33169e",
   "metadata": {
    "tags": []
   },
   "outputs": [
    {
     "name": "stdout",
     "output_type": "stream",
     "text": [
      "Requirement already satisfied: numpy in /home/studio-lab-user/.conda/envs/default/lib/python3.9/site-packages (2.0.2)\n",
      "Requirement already satisfied: pandas in /home/studio-lab-user/.conda/envs/default/lib/python3.9/site-packages (2.2.3)\n",
      "Requirement already satisfied: scikit-learn in /home/studio-lab-user/.conda/envs/default/lib/python3.9/site-packages (1.6.1)\n",
      "Requirement already satisfied: matplotlib in /home/studio-lab-user/.conda/envs/default/lib/python3.9/site-packages (3.9.4)\n",
      "Requirement already satisfied: seaborn in /home/studio-lab-user/.conda/envs/default/lib/python3.9/site-packages (0.13.2)\n",
      "Collecting cryptography\n",
      "  Downloading cryptography-44.0.1-cp39-abi3-manylinux_2_28_x86_64.whl (4.2 MB)\n",
      "\u001b[K     |████████████████████████████████| 4.2 MB 5.0 MB/s eta 0:00:01\n",
      "\u001b[?25hRequirement already satisfied: pytz>=2020.1 in /home/studio-lab-user/.conda/envs/default/lib/python3.9/site-packages (from pandas) (2024.1)\n",
      "Requirement already satisfied: tzdata>=2022.7 in /home/studio-lab-user/.conda/envs/default/lib/python3.9/site-packages (from pandas) (2025.1)\n",
      "Requirement already satisfied: python-dateutil>=2.8.2 in /home/studio-lab-user/.conda/envs/default/lib/python3.9/site-packages (from pandas) (2.9.0)\n",
      "Requirement already satisfied: threadpoolctl>=3.1.0 in /home/studio-lab-user/.conda/envs/default/lib/python3.9/site-packages (from scikit-learn) (3.5.0)\n",
      "Requirement already satisfied: scipy>=1.6.0 in /home/studio-lab-user/.conda/envs/default/lib/python3.9/site-packages (from scikit-learn) (1.13.1)\n",
      "Requirement already satisfied: joblib>=1.2.0 in /home/studio-lab-user/.conda/envs/default/lib/python3.9/site-packages (from scikit-learn) (1.4.2)\n",
      "Requirement already satisfied: kiwisolver>=1.3.1 in /home/studio-lab-user/.conda/envs/default/lib/python3.9/site-packages (from matplotlib) (1.4.7)\n",
      "Requirement already satisfied: cycler>=0.10 in /home/studio-lab-user/.conda/envs/default/lib/python3.9/site-packages (from matplotlib) (0.12.1)\n",
      "Requirement already satisfied: fonttools>=4.22.0 in /home/studio-lab-user/.conda/envs/default/lib/python3.9/site-packages (from matplotlib) (4.56.0)\n",
      "Requirement already satisfied: contourpy>=1.0.1 in /home/studio-lab-user/.conda/envs/default/lib/python3.9/site-packages (from matplotlib) (1.3.0)\n",
      "Requirement already satisfied: packaging>=20.0 in /home/studio-lab-user/.conda/envs/default/lib/python3.9/site-packages (from matplotlib) (24.0)\n",
      "Requirement already satisfied: importlib-resources>=3.2.0 in /home/studio-lab-user/.conda/envs/default/lib/python3.9/site-packages (from matplotlib) (6.4.0)\n",
      "Requirement already satisfied: pyparsing>=2.3.1 in /home/studio-lab-user/.conda/envs/default/lib/python3.9/site-packages (from matplotlib) (3.2.1)\n",
      "Requirement already satisfied: pillow>=8 in /home/studio-lab-user/.conda/envs/default/lib/python3.9/site-packages (from matplotlib) (11.1.0)\n",
      "Requirement already satisfied: cffi>=1.12 in /home/studio-lab-user/.conda/envs/default/lib/python3.9/site-packages (from cryptography) (1.16.0)\n",
      "Requirement already satisfied: pycparser in /home/studio-lab-user/.conda/envs/default/lib/python3.9/site-packages (from cffi>=1.12->cryptography) (2.22)\n",
      "Requirement already satisfied: zipp>=3.1.0 in /home/studio-lab-user/.conda/envs/default/lib/python3.9/site-packages (from importlib-resources>=3.2.0->matplotlib) (3.17.0)\n",
      "Requirement already satisfied: six>=1.5 in /home/studio-lab-user/.conda/envs/default/lib/python3.9/site-packages (from python-dateutil>=2.8.2->pandas) (1.16.0)\n",
      "Installing collected packages: cryptography\n",
      "Successfully installed cryptography-44.0.1\n"
     ]
    }
   ],
   "source": [
    "!pip install numpy pandas scikit-learn matplotlib seaborn cryptography"
   ]
  },
  {
   "cell_type": "markdown",
   "id": "971575f8-530b-45e1-a126-36ea0d794c96",
   "metadata": {},
   "source": [
    "2️⃣ Train an AI Model\n",
    "\n",
    "📌 Description:\n",
    "\n",
    "Here, we train a Random Forest Classifier on the dataset. This model is used to predict fraudulent transactions.\n",
    "\n",
    "💡 Key Considerations:\n",
    "\n",
    "Ensure the model is not overfitting.\n",
    "\n",
    "Monitor training accuracy vs test accuracy."
   ]
  },
  {
   "cell_type": "code",
   "execution_count": 2,
   "id": "a04f8c7f-bd40-4150-aa17-49d60dee8baf",
   "metadata": {
    "tags": []
   },
   "outputs": [
    {
     "name": "stdout",
     "output_type": "stream",
     "text": [
      "Sample dataset preview:\n",
      "   feature_0  feature_1  feature_2  feature_3  feature_4  feature_5  \\\n",
      "0   0.374540   0.950714   0.731994   0.598658   0.156019   0.155995   \n",
      "1   0.020584   0.969910   0.832443   0.212339   0.181825   0.183405   \n",
      "2   0.611853   0.139494   0.292145   0.366362   0.456070   0.785176   \n",
      "3   0.607545   0.170524   0.065052   0.948886   0.965632   0.808397   \n",
      "4   0.122038   0.495177   0.034389   0.909320   0.258780   0.662522   \n",
      "\n",
      "   feature_6  feature_7  feature_8  feature_9  fraud  \n",
      "0   0.058084   0.866176   0.601115   0.708073      0  \n",
      "1   0.304242   0.524756   0.431945   0.291229      0  \n",
      "2   0.199674   0.514234   0.592415   0.046450      0  \n",
      "3   0.304614   0.097672   0.684233   0.440152      0  \n",
      "4   0.311711   0.520068   0.546710   0.184854      0  \n"
     ]
    }
   ],
   "source": [
    "import numpy as np\n",
    "import pandas as pd\n",
    "import matplotlib.pyplot as plt\n",
    "import seaborn as sns\n",
    "from sklearn.model_selection import train_test_split\n",
    "from sklearn.ensemble import RandomForestClassifier\n",
    "from sklearn.metrics import accuracy_score\n",
    "\n",
    "# Generate synthetic fraud dataset\n",
    "np.random.seed(42)\n",
    "data_size = 5000\n",
    "features = 10\n",
    "\n",
    "X = np.random.rand(data_size, features)\n",
    "y = np.random.choice([0, 1], size=(data_size,), p=[0.95, 0.05])  # 5% fraud cases\n",
    "\n",
    "df = pd.DataFrame(X, columns=[f'feature_{i}' for i in range(features)])\n",
    "df['fraud'] = y\n",
    "\n",
    "print(\"Sample dataset preview:\")\n",
    "print(df.head())"
   ]
  },
  {
   "cell_type": "markdown",
   "id": "9d769ec2-6c88-447e-9b1c-4ad17ecea62e",
   "metadata": {},
   "source": [
    "3️⃣ Detect AI Model Bias\n",
    "\n",
    "📌 Description:\n",
    "\n",
    "This section analyzes whether the AI model exhibits bias in fraud detection.\n",
    "\n",
    "💡 Why is this important?\n",
    "\n",
    "Biased models can result in unfair decisions.\n",
    "\n",
    "AI models should maintain fairness across different user groups.\n",
    "\n",
    "🛠 Code Tasks:\n",
    "\n",
    "Plot fraud detection distribution.\n",
    "\n",
    "Compare prediction accuracy for fraud vs non-fraud cases."
   ]
  },
  {
   "cell_type": "code",
   "execution_count": 3,
   "id": "43c65473-ca63-4d0e-b66c-7205e6552105",
   "metadata": {
    "tags": []
   },
   "outputs": [
    {
     "name": "stdout",
     "output_type": "stream",
     "text": [
      "Model Accuracy: 0.95\n"
     ]
    }
   ],
   "source": [
    "# Split dataset\n",
    "X_train, X_test, y_train, y_test = train_test_split(df.drop('fraud', axis=1), df['fraud'], test_size=0.2, random_state=42)\n",
    "\n",
    "# Train AI model\n",
    "model = RandomForestClassifier(n_estimators=100, random_state=42)\n",
    "model.fit(X_train, y_train)\n",
    "\n",
    "# Evaluate model\n",
    "y_pred = model.predict(X_test)\n",
    "accuracy = accuracy_score(y_test, y_pred)\n",
    "print(f\"Model Accuracy: {accuracy:.2f}\")"
   ]
  },
  {
   "cell_type": "markdown",
   "id": "ac23ebbe-51c2-4b65-b30f-f17fac422e4c",
   "metadata": {},
   "source": [
    "4️⃣ Simulate Adversarial Attacks\n",
    "\n",
    "📌 Description:\n",
    "\n",
    "Adversarial attacks involve manipulating input data to trick AI models. This section modifies fraud transactions slightly to test the model’s robustness.\n",
    "\n",
    "💡 What to Watch For?\n",
    "\n",
    "Does a small input change cause a different AI prediction?\n",
    "\n",
    "How can we protect against adversarial manipulation?"
   ]
  },
  {
   "cell_type": "code",
   "execution_count": 4,
   "id": "d8d07b2e-d663-4f28-893b-0f37c2f1021c",
   "metadata": {
    "tags": []
   },
   "outputs": [
    {
     "data": {
      "image/png": "[encoded data removed]",
      "text/plain": [
       "<Figure size 640x480 with 1 Axes>"
      ]
     },
     "metadata": {},
     "output_type": "display_data"
    }
   ],
   "source": [
    "# Check Fraud vs. Non-Fraud Distribution\n",
    "fraud_ratio = df['fraud'].value_counts(normalize=True)\n",
    "sns.barplot(x=fraud_ratio.index, y=fraud_ratio.values)\n",
    "plt.title(\"Fraud vs Non-Fraud Cases\")\n",
    "plt.show()"
   ]
  },
  {
   "cell_type": "code",
   "execution_count": 5,
   "id": "ccc4eae6-ba89-4227-854e-abb81bb9adda",
   "metadata": {
    "tags": []
   },
   "outputs": [
    {
     "name": "stdout",
     "output_type": "stream",
     "text": [
      "Fraud cases detected: 0 / 53\n",
      "Non-fraud cases detected: 947 / 947\n"
     ]
    }
   ],
   "source": [
    "# Evaluate Bias in Model Predictions\n",
    "fraud_preds = y_pred[y_test == 1]  # Predictions on actual fraud cases\n",
    "nonfraud_preds = y_pred[y_test == 0]  # Predictions on non-fraud cases\n",
    "\n",
    "print(f\"Fraud cases detected: {fraud_preds.sum()} / {y_test.sum()}\")\n",
    "print(f\"Non-fraud cases detected: {len(nonfraud_preds) - nonfraud_preds.sum()} / {len(y_test) - y_test.sum()}\")"
   ]
  },
  {
   "cell_type": "markdown",
   "id": "df611574-5e94-4af5-95b7-ec069ff88dd5",
   "metadata": {},
   "source": [
    "5️⃣ AI Data Privacy & Encryption\n",
    "\n",
    "📌 Description:\n",
    "\n",
    "Here, we apply encryption techniques to protect sensitive AI data using Python’s cryptography module.\n",
    "\n",
    "💡 Key Takeaways:\n",
    "\n",
    "Encrypting AI data prevents data breaches & unauthorized access.\n",
    "\n",
    "Compliance with GDPR, HIPAA, and NIST standards."
   ]
  },
  {
   "cell_type": "code",
   "execution_count": 6,
   "id": "2d4b7f97-f082-40ac-943d-46cc86667ebb",
   "metadata": {
    "tags": []
   },
   "outputs": [
    {
     "name": "stdout",
     "output_type": "stream",
     "text": [
      "Original prediction: 0, Adversarial prediction: 0\n"
     ]
    }
   ],
   "source": [
    "# Modify a fraud input slightly to test robustness\n",
    "X_test_adv = X_test.copy()\n",
    "X_test_adv.iloc[0] *= 1.01  # Slight manipulation\n",
    "\n",
    "# Predict again with modified input\n",
    "y_pred_adv = model.predict(X_test_adv)\n",
    "print(f\"Original prediction: {y_pred[0]}, Adversarial prediction: {y_pred_adv[0]}\")"
   ]
  },
  {
   "cell_type": "markdown",
   "id": "05b0c753-ce63-4f84-bfac-8fa608e08059",
   "metadata": {},
   "source": [
    "6️⃣ AI Model Drift Detection\n",
    "\n",
    "📌 Description:\n",
    "\n",
    "Model drift happens when an AI model’s accuracy degrades over time due to changes in real-world data.\n",
    "\n",
    "💡 Why is this crucial?\n",
    "\n",
    "AI models must be continuously monitored.\n",
    "\n",
    "If performance drops, retraining is required.\n",
    "\n",
    "🛠 Code Tasks:\n",
    "\n",
    "Simulate a shift in data patterns.\n",
    "\n",
    "Compare accuracy before and after drift."
   ]
  },
  {
   "cell_type": "code",
   "execution_count": 7,
   "id": "f4aaafe2-0480-4806-8ebf-86ad25171eaf",
   "metadata": {
    "tags": []
   },
   "outputs": [
    {
     "name": "stdout",
     "output_type": "stream",
     "text": [
      "Encrypted transaction: b'gAAAAABnvYoZaLiH4-ct3axkrm1M2Fz9mJnDSAi4w2dyVl7WixQWS6pLttSuIxwx9lfwfKUGtH5vPNDPrWEFEiGOUlC93T-txZZ1l-rBfkFuuZRTIA1YOmY4C2SpgS2OIA8eBMA6xpb0Cx8cDAd09N1eaAhNme0d4jMl7N_Ebn_1SEPeP8J_Drlr7W8GgZn4tqCWty39u47gj9cAATWtjn5D__rMWys9M7NUXOxKVklTiR0AwO6ZSs4='\n",
      "Decrypted transaction: b'[0.06755484 0.1714322  0.98438131 0.46854695 0.8673455  0.84875247\\n 0.51151956 0.70668771 0.19275201 0.6883967 ]'\n"
     ]
    }
   ],
   "source": [
    "from cryptography.fernet import Fernet\n",
    "\n",
    "# Generate encryption key\n",
    "key = Fernet.generate_key()\n",
    "cipher = Fernet(key)\n",
    "\n",
    "# Encrypt a sample fraud transaction\n",
    "sample_transaction = str(X_test.iloc[0].values).encode()\n",
    "encrypted_transaction = cipher.encrypt(sample_transaction)\n",
    "\n",
    "print(f\"Encrypted transaction: {encrypted_transaction}\")\n",
    "\n",
    "# Decrypt the transaction\n",
    "decrypted_transaction = cipher.decrypt(encrypted_transaction)\n",
    "print(f\"Decrypted transaction: {decrypted_transaction}\")"
   ]
  },
  {
   "cell_type": "markdown",
   "id": "f6fccd00-0c68-4a79-b7d4-f59c1899c303",
   "metadata": {},
   "source": [
    "7️⃣ Simulate AI Governance\n",
    "\n",
    "📌 Description:\n",
    "\n",
    "Governance policies ensure AI models are secure and used responsibly. This section simulates role-based access control (RBAC) for AI models.\n",
    "\n",
    "💡 Why This Matters?\n",
    "\n",
    "AI models should not be modified or accessed by unauthorized users.\n",
    "\n",
    "Governance controls align with AWS IAM, CloudTrail, and security policies."
   ]
  },
  {
   "cell_type": "code",
   "execution_count": 8,
   "id": "0d0007c6-7bda-4462-bc95-d9ac2b4d2209",
   "metadata": {
    "tags": []
   },
   "outputs": [
    {
     "name": "stdout",
     "output_type": "stream",
     "text": [
      "Accuracy before drift: 0.95, After drift: 0.94\n"
     ]
    }
   ],
   "source": [
    "# Simulate Model Drift by Slightly Altering Input Data\n",
    "X_test_drifted = X_test.copy()\n",
    "X_test_drifted *= np.random.uniform(0.95, 1.05, X_test.shape)  # Introduce slight variation\n",
    "\n",
    "# Predict on drifted data\n",
    "y_pred_drifted = model.predict(X_test_drifted)\n",
    "\n",
    "# Compare Accuracy Before & After Drift\n",
    "accuracy_drifted = accuracy_score(y_test, y_pred_drifted)\n",
    "print(f\"Accuracy before drift: {accuracy:.2f}, After drift: {accuracy_drifted:.2f}\")\n",
    "\n",
    "# If accuracy drops significantly, retraining is needed\n",
    "if accuracy_drifted < 0.80:\n",
    "    print(\"Model Drift Detected! Retraining required.\")"
   ]
  },
  {
   "cell_type": "markdown",
   "id": "b21cbefb-0a67-4b17-9755-172b52fe14fb",
   "metadata": {},
   "source": [
    "🔹 Step 8: Simulate AI Governance (Access Control)"
   ]
  },
  {
   "cell_type": "code",
   "execution_count": 9,
   "id": "b686d39d-d5a6-422c-ab75-a7feb2a49104",
   "metadata": {
    "tags": []
   },
   "outputs": [
    {
     "name": "stdout",
     "output_type": "stream",
     "text": [
      "Access denied! Unauthorized user.\n",
      "Access granted to AI model.\n"
     ]
    }
   ],
   "source": [
    "# Simulate IAM Role-Based Access Control for AI Model\n",
    "def check_user_access(user_role):\n",
    "    allowed_roles = [\"Data Scientist\", \"Security Analyst\"]\n",
    "    if user_role in allowed_roles:\n",
    "        return \"Access granted to AI model.\"\n",
    "    else:\n",
    "        return \"Access denied! Unauthorized user.\"\n",
    "\n",
    "# Example Usage\n",
    "print(check_user_access(\"Intern\"))  # Simulates unauthorized access attempt\n",
    "print(check_user_access(\"Security Analyst\"))  # Authorized user"
   ]
  },
  {
   "cell_type": "markdown",
   "id": "a1818548-6623-4679-8f91-f05b9c0648c1",
   "metadata": {},
   "source": [
    "Conclusion & Next Steps\n",
    "\n",
    "This notebook demonstrated AI risk management best practices. Key takeaways:\n",
    "\n",
    "Ensure fairness, security, and governance in AI models.\n",
    "\n",
    "Detect and respond to adversarial attacks.\n",
    "\n",
    "Encrypt sensitive AI data to comply with privacy regulations.\n",
    "\n",
    "Continuously monitor AI models for bias and drift.\n",
    "\n",
    "🚀 Next Steps:\n",
    "\n",
    "Deploy AI model on AWS SageMaker.\n",
    "\n",
    "Use AWS services like Macie, WAF, and GuardDuty.\n",
    "\n",
    "Automate risk monitoring with Lambda & CloudWatch.\n",
    "\n",
    "📢 Feel free to modify this notebook and experiment further! 🚀"
   ]
  }
 ],
 "metadata": {
  "kernelspec": {
   "display_name": ".conda-default:Python",
   "language": "python",
   "name": "conda-env-.conda-default-py"
  },
  "language_info": {
   "codemirror_mode": {
    "name": "ipython",
    "version": 3
   },
   "file_extension": ".py",
   "mimetype": "text/x-python",
   "name": "python",
   "nbconvert_exporter": "python",
   "pygments_lexer": "ipython3",
   "version": "3.9.19"
  }
 },
 "nbformat": 4,
 "nbformat_minor": 5
}
